{
 "cells": [
  {
   "cell_type": "markdown",
   "metadata": {},
   "source": [
    "![POLITICO](https://rawgithub.com/The-Politico/src/master/images/logo/badge.png)\n",
    "\n",
    "# POLITICO demographic district similarity maps\n",
    "\n",
    "POLITICO demographic district similarity maps create lists of the most similar districts to any one district based on census demographics.\n",
    "\n",
    "The maps are created by calculating a weighted Euclidean distance between demographic characteristics in each district."
   ]
  },
  {
   "cell_type": "markdown",
   "metadata": {},
   "source": [
    "---\n",
    "\n",
    "## Data\n",
    "\n",
    "- Whiteness\n",
    "- Age\n",
    "- Median Income\n",
    "- Education attainment"
   ]
  },
  {
   "cell_type": "code",
   "execution_count": null,
   "metadata": {},
   "outputs": [],
   "source": [
    "import requests\n",
    "\n",
    "'https://www.politico.com/election-results/data/us-census/acs5/2016/B01002/districts.json'"
   ]
  }
 ],
 "metadata": {
  "kernelspec": {
   "display_name": "Python 3",
   "language": "python",
   "name": "python3"
  },
  "language_info": {
   "codemirror_mode": {
    "name": "ipython",
    "version": 3
   },
   "file_extension": ".py",
   "mimetype": "text/x-python",
   "name": "python",
   "nbconvert_exporter": "python",
   "pygments_lexer": "ipython3",
   "version": "3.6.5"
  }
 },
 "nbformat": 4,
 "nbformat_minor": 2
}
