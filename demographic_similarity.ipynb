{
 "cells": [
  {
   "cell_type": "markdown",
   "metadata": {},
   "source": [
    "![POLITICO](https://rawgithub.com/The-Politico/src/master/images/logo/badge.png)\n",
    "\n",
    "# POLITICO demographic district similarity maps\n",
    "\n",
    "POLITICO demographic district similarity maps create lists of the most similar districts to any one district based on census demographics.\n",
    "\n",
    "The maps are created by calculating a weighted Euclidean distance between demographic characteristics in each district."
   ]
  },
  {
   "cell_type": "markdown",
   "metadata": {},
   "source": [
    "---\n",
    "\n",
    "## Data\n",
    "\n",
    "Demographic profile for districts is based on four characteristics:\n",
    "\n",
    "- Non-hispanic whiteness\n",
    "- Age\n",
    "- Median Income\n",
    "- Education attainment"
   ]
  },
  {
   "cell_type": "code",
   "execution_count": null,
   "metadata": {},
   "outputs": [],
   "source": [
    "import requests\n",
    "\n",
    "'https://www.politico.com/election-results/data/us-census/acs5/2016/B01002/districts.json'"
   ]
  },
  {
   "cell_type": "markdown",
   "metadata": {},
   "source": [
    "---\n",
    "\n",
    "## Establishing weights\n",
    "\n",
    "We weight demographic variables by how significant they are in determing a political identity. To do that, we establish the statistical relationship between the variables and voting behavior in a multivariate linear model.\n",
    "\n",
    "While our goal is to determine the similarity of districts, we use county-level returns and demographic measures to calculate our weights because there are more counties than districts in which to test the relationship between demographics and voting. Our voting data (dependent) is 2016 presidential results. Our demographic data (independent) comes from the 2016 5-year American Community Survey.\n",
    "\n",
    "To calculate the weights, we need to estimate how influential each variable is compared to each other in terms of its impact on party margin.\n",
    "\n",
    "To begin we normalize our demographic variables to a scale of 0 to 1 representing the min and max of each variable's distribution. That way we can compare their model coefficients. We then take the absolute value of the coefficients and simplify them to a ratio. That ratio represents how influential they are compared to each other when used together to predict voting behavior. These are our weights.\n",
    "\n",
    "For example, if non-hispanic whiteness has a coefficient of 4 while age has a coefficent of 2 in the model, we weight whiteness 2 to 1 when calculating our Euclidean distanct between districts."
   ]
  }
 ],
 "metadata": {
  "kernelspec": {
   "display_name": "Python 3",
   "language": "python",
   "name": "python3"
  },
  "language_info": {
   "codemirror_mode": {
    "name": "ipython",
    "version": 3
   },
   "file_extension": ".py",
   "mimetype": "text/x-python",
   "name": "python",
   "nbconvert_exporter": "python",
   "pygments_lexer": "ipython3",
   "version": "3.6.5"
  }
 },
 "nbformat": 4,
 "nbformat_minor": 2
}
