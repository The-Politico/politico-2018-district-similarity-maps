{
 "cells": [
  {
   "cell_type": "markdown",
   "metadata": {},
   "source": [
    "![POLITICO](https://rawgithub.com/The-Politico/src/master/images/logo/badge.png)\n",
    "\n",
    "# POLITICO partisan voting district similarity maps\n",
    "\n",
    "POLITICO partisan voting district similarity maps align districts by their similarity based on voting history.\n",
    "\n",
    "The maps are created by calculating the weighted [Euclidean distance](https://en.wikipedia.org/wiki/Euclidean_distance) between districts based on major party returns in past federal elections."
   ]
  },
  {
   "cell_type": "markdown",
   "metadata": {},
   "source": [
    "---\n",
    "\n",
    "## The data\n",
    "\n",
    "We use federal election results for the following races:\n",
    "- 2012, 2014 & 2016 U.S. House\n",
    "- 2012 & 2016 U.S. president\n",
    "\n",
    "This [data](https://www.politico.com/election-results/2018/race-ratings/data/historical/house.json) is sourced from MIT Election Lab and Daily Kos."
   ]
  },
  {
   "cell_type": "code",
   "execution_count": 3,
   "metadata": {},
   "outputs": [],
   "source": [
    "import requests\n",
    "\n",
    "response = requests.get('https://www.politico.com/election-results/2018/race-ratings/data/historical/house.json')\n",
    "data = response.json()\n",
    "# We are excluding PA (new districts) and LA (jungle general election) this year\n",
    "districts = [district for district in list(data.keys()) if 'LA' not in district and 'PA' not in district]\n",
    "districts.sort()"
   ]
  },
  {
   "cell_type": "markdown",
   "metadata": {},
   "source": [
    "---\n",
    "\n",
    "## Calculate district similarity"
   ]
  },
  {
   "cell_type": "markdown",
   "metadata": {},
   "source": [
    "We use vote percent to standardize returns in each district."
   ]
  },
  {
   "cell_type": "code",
   "execution_count": 4,
   "metadata": {},
   "outputs": [],
   "source": [
    "def get_results(year, results):\n",
    "    result = list(filter(lambda x: x['year'] == year, results))[0]\n",
    "    dem = result.get('dem', {}).get('votePct', 0)\n",
    "    gop = result.get('gop', {}).get('votePct', 0)\n",
    "    return [dem, gop]"
   ]
  },
  {
   "cell_type": "markdown",
   "metadata": {},
   "source": [
    "### Uncontested race discount\n",
    "\n",
    "If a party is uncontested for a House seat during a cycle but has been contested in one or more other cycles, we discount the party's result in the uncontested race. We do this to limit the effect party dominance in any single uncontested race has because it may otherwise skew how competitive the district truly is.\n",
    "\n",
    "The discount is arbitrary and calculated as half the return in the uncontested race minus the maximum return the party received in contested races during the period.\n",
    "\n",
    "For example, if a Democratic candidate was uncontested in one cycle and received 95% of the vote but had only received a maximum of 55% of the vote in contested races, the uncontested result is discounted by (95 - 55) / 2 = 20%. The discounted return in the uncontested year would be **75%**.\n",
    "\n",
    "If *all* races in the period are uncontested, we **do not** discount the uncontested return.\n",
    "\n"
   ]
  },
  {
   "cell_type": "code",
   "execution_count": 5,
   "metadata": {},
   "outputs": [],
   "source": [
    "from statistics import mean\n",
    "\n",
    "def flatten(list_of_lists):\n",
    "    return [item for sublist in list_of_lists for item in sublist]\n",
    "\n",
    "def discount_uncontested(results):\n",
    "    uncontested = [result for result in results if 0 in result]\n",
    "    contested = [result for result in results if 0 not in result]\n",
    "    # If all races are uncontested, do not discount result\n",
    "    if len(contested) == 0:\n",
    "        return flatten(uncontested)\n",
    "    \n",
    "    discounted_uncontested = []\n",
    "\n",
    "    for result in uncontested:\n",
    "        # No Dem, GOP uncontested\n",
    "        if result.index(0) == 0:\n",
    "            avg_return = max([r[1] for r in contested])\n",
    "            discount = (result[1] - avg_return) / 2\n",
    "            discounted_uncontested.append([0, result[1] - discount])\n",
    "        # No GOP, Dem uncontested\n",
    "        else:\n",
    "            avg_return = mean([result[0] for result in contested])\n",
    "            discount = (result[0] - avg_return) / 2\n",
    "            discounted_uncontested.append([result[0] - discount, 0])\n",
    "    return flatten(discounted_uncontested) + flatten(contested)"
   ]
  },
  {
   "cell_type": "code",
   "execution_count": 6,
   "metadata": {},
   "outputs": [],
   "source": [
    "district_results = {}\n",
    "\n",
    "for district in districts:\n",
    "    seat = data[district]['seat']\n",
    "    pres = data[district]['president']\n",
    "    \n",
    "    # List of results [Dem, GOP]\n",
    "    h2012 = get_results('2012', seat)\n",
    "    h2014 = get_results('2014', seat)\n",
    "    h2016 = get_results('2016', seat)\n",
    "    p2012 = get_results('2012', pres)\n",
    "    p2016 = get_results('2016', pres)\n",
    "    \n",
    "    house_results = discount_uncontested([h2012, h2014, h2016])\n",
    "    \n",
    "    district_results[district] = house_results + p2012 + p2016\n",
    "    "
   ]
  },
  {
   "cell_type": "markdown",
   "metadata": {},
   "source": [
    "### Weighted Euclidean distance\n",
    "\n",
    "\n",
    "Each major party result represents a coordinate point along an axis of 0 to 1 (0 - 100% of the vote). Using those coordinates, we calculate the [Euclidean distance](https://en.wikipedia.org/wiki/Euclidean_distance) between each district.\n",
    "\n",
    "We weight results, favoring results from *more recent* election cycles **2 to 1**."
   ]
  },
  {
   "cell_type": "code",
   "execution_count": 7,
   "metadata": {},
   "outputs": [],
   "source": [
    "from scipy.spatial import distance\n",
    "\n",
    "weights = {\n",
    "    'h2012': 0.5, # House results\n",
    "    'h2014': 1,\n",
    "    'h2016': 2,\n",
    "    'p2012': 1, # President results\n",
    "    'p2016': 2,\n",
    "}\n",
    "\n",
    "def get_distance(district, comparitor):\n",
    "    w = [\n",
    "        #       DEM               GOP\n",
    "        weights['h2012'], weights['h2012'],\n",
    "        weights['h2014'], weights['h2014'],\n",
    "        weights['h2016'], weights['h2016'],\n",
    "        weights['p2012'], weights['p2012'],\n",
    "        weights['p2016'], weights['p2016'],\n",
    "    ]\n",
    "    return distance.euclidean(district, comparitor, w)\n",
    "    "
   ]
  },
  {
   "cell_type": "code",
   "execution_count": 8,
   "metadata": {},
   "outputs": [],
   "source": [
    "district_distances = {}\n",
    "\n",
    "for district, districtResults in district_results.items():\n",
    "    district_distances[district] = []\n",
    "    for comparitor, comparitorResults in district_results.items():\n",
    "        if district == comparitor:\n",
    "            continue\n",
    "        district_distances[district].append({\n",
    "            'district': comparitor,\n",
    "            'distance': get_distance(districtResults, comparitorResults)\n",
    "        })"
   ]
  },
  {
   "cell_type": "markdown",
   "metadata": {},
   "source": [
    "For each district we calculate the **22** most similar districts, about 5% of the total number of districts."
   ]
  },
  {
   "cell_type": "code",
   "execution_count": 9,
   "metadata": {},
   "outputs": [],
   "source": [
    "N = 22"
   ]
  },
  {
   "cell_type": "code",
   "execution_count": 10,
   "metadata": {},
   "outputs": [],
   "source": [
    "similar_districts = {}\n",
    "similar_district_ids = {}\n",
    "\n",
    "for district, distances in district_distances.items():\n",
    "    sorted_distances = list(sorted(distances, key=lambda k: k['distance']))\n",
    "    \n",
    "    similar_districts[district] = sorted_distances[:N]\n",
    "    similar_district_ids[district] = [k['district'] for k in sorted_distances[:N]]\n",
    "    "
   ]
  },
  {
   "cell_type": "markdown",
   "metadata": {},
   "source": [
    "---\n",
    "\n",
    "## Output"
   ]
  },
  {
   "cell_type": "markdown",
   "metadata": {},
   "source": [
    "JSON"
   ]
  },
  {
   "cell_type": "code",
   "execution_count": 11,
   "metadata": {},
   "outputs": [],
   "source": [
    "import json\n",
    "\n",
    "with open('data/political-similarity.json', 'w') as file:\n",
    "    json.dump(similar_district_ids, file)"
   ]
  },
  {
   "cell_type": "markdown",
   "metadata": {},
   "source": [
    "CSV with similarity score stats"
   ]
  },
  {
   "cell_type": "code",
   "execution_count": 12,
   "metadata": {},
   "outputs": [],
   "source": [
    "import csv\n",
    "\n",
    "with open('data/political-similarity.csv','w') as file:\n",
    "    writer = csv.writer(file)\n",
    "    writer.writerow(['district', 'min_similarity', 'max_similarity', 'similarity_range', 'most_similar ⬅'])\n",
    "\n",
    "    for district in districts:\n",
    "        MIN = similar_districts[district][0]['distance']\n",
    "        MAX = similar_districts[district][-1]['distance']\n",
    "        row = [district, MIN, MAX, MAX - MIN] + [k['district'] for k in similar_districts[district]]\n",
    "        \n",
    "        writer.writerow(row)"
   ]
  },
  {
   "cell_type": "markdown",
   "metadata": {},
   "source": [
    "### Compare similarity maps to POLITICO race ratings\n",
    "\n",
    "These maps list the ratings of similar districts. We also calculate the variance for each map based on a point scale for the ratings."
   ]
  },
  {
   "cell_type": "code",
   "execution_count": 13,
   "metadata": {},
   "outputs": [],
   "source": [
    "from statistics import pvariance\n",
    "\n",
    "response = requests.get('https://www.politico.com/election-results/2018/race-ratings/data/ratings.json')\n",
    "ratings = {}\n",
    "rating_codes = {}\n",
    "\n",
    "for rating in response.json():\n",
    "    ratings[rating['id']] = rating['latest_rating']['short_label']\n",
    "    rating_codes[ratings[rating['id']]] = rating['latest_rating']['order']\n",
    "\n",
    "    \n",
    "with open('data/political-similarity-with-ratings.csv','w') as file:\n",
    "    writer = csv.writer(file)\n",
    "    writer.writerow(['district', 'rating', 'variance', 'most_similar_ratings'])\n",
    "    \n",
    "    for district in districts:\n",
    "        row = [\n",
    "            district,\n",
    "            ratings[district],\n",
    "            pvariance([rating_codes[ratings[k['district']]] for k in similar_districts[district]])\n",
    "        ] + [ratings[k['district']] for k in similar_districts[district]]\n",
    "        \n",
    "        writer.writerow(row)"
   ]
  },
  {
   "cell_type": "markdown",
   "metadata": {},
   "source": [
    "---\n",
    "\n",
    "## Upload"
   ]
  },
  {
   "cell_type": "code",
   "execution_count": 14,
   "metadata": {},
   "outputs": [],
   "source": [
    "import boto3\n",
    "import os\n",
    "\n",
    "s3 = boto3.resource('s3')\n",
    "\n",
    "with open('data/political-similarity.json', 'rb') as data:\n",
    "    key = 'election-results/2018/district-similarity-maps/political-similarity.json'\n",
    "    s3.Bucket(os.getenv('AWS_S3_BUCKET')).put_object(\n",
    "        Key=key,\n",
    "        Body=data,\n",
    "        ACL='public-read',\n",
    "        CacheControl='max-age=300',\n",
    "        ContentType='application/json'\n",
    "    )"
   ]
  }
 ],
 "metadata": {
  "kernelspec": {
   "display_name": "Python 3",
   "language": "python",
   "name": "python3"
  },
  "language_info": {
   "codemirror_mode": {
    "name": "ipython",
    "version": 3
   },
   "file_extension": ".py",
   "mimetype": "text/x-python",
   "name": "python",
   "nbconvert_exporter": "python",
   "pygments_lexer": "ipython3",
   "version": "3.6.5"
  }
 },
 "nbformat": 4,
 "nbformat_minor": 2
}
